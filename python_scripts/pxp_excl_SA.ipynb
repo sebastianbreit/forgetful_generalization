{
 "cells": [
  {
   "cell_type": "code",
   "execution_count": 1,
   "metadata": {},
   "outputs": [],
   "source": [
    "# code replicated from https://github.com/charleywu/graphInference/blob/master/analyses/PXP.ipynb"
   ]
  },
  {
   "cell_type": "code",
   "execution_count": 2,
   "metadata": {
    "ExecuteTime": {
     "end_time": "2022-02-21T11:09:25.714427Z",
     "start_time": "2022-02-21T11:09:25.711662Z"
    },
    "scrolled": true
   },
   "outputs": [],
   "source": [
    "import matplotlib.pyplot as plt\n",
    "import numpy as np\n",
    "import pandas as pd \n",
    "\n",
    "from bms import GroupBMC #https://github.com/cpilab/group-bayesian-model-comparison"
   ]
  },
  {
   "cell_type": "code",
   "execution_count": 3,
   "metadata": {},
   "outputs": [],
   "source": [
    "L = np.array([[-100, -120, -100, -120], [-120, -100, -120, -100], [-110, -110, -110, -110]])\n",
    "result = GroupBMC(L).get_result().protected_exceedance_probability"
   ]
  },
  {
   "cell_type": "code",
   "execution_count": 4,
   "metadata": {},
   "outputs": [
    {
     "name": "stdout",
     "output_type": "stream",
     "text": [
      "[0.3959346 0.3959346 0.2081308]\n"
     ]
    }
   ],
   "source": [
    "print(result)"
   ]
  },
  {
   "cell_type": "markdown",
   "metadata": {},
   "source": [
    "### Protected exceedance probability depending on condition"
   ]
  },
  {
   "cell_type": "code",
   "execution_count": 5,
   "metadata": {
    "ExecuteTime": {
     "end_time": "2022-02-21T11:18:35.260379Z",
     "start_time": "2022-02-21T11:18:35.255296Z"
    }
   },
   "outputs": [],
   "source": [
    "#Load data\n",
    "m_mem = -pd.read_csv('../fitting_results/output/corrected_models/United KingdomOther/pxp/summary_matrix_fitting_results_memory.csv', sep=',',header=None).dropna(axis=0).to_numpy().T\n",
    "#m"
   ]
  },
  {
   "cell_type": "code",
   "execution_count": 6,
   "metadata": {
    "ExecuteTime": {
     "end_time": "2022-02-21T11:18:35.260379Z",
     "start_time": "2022-02-21T11:18:35.255296Z"
    }
   },
   "outputs": [],
   "source": [
    "#Load data\n",
    "m_nomem = -pd.read_csv('../fitting_results/output/corrected_models/United KingdomOther/pxp/summary_matrix_fitting_results_nomemory.csv', sep=',',header=None).dropna(axis=0).to_numpy().T\n",
    "#m"
   ]
  },
  {
   "cell_type": "code",
   "execution_count": 7,
   "metadata": {
    "ExecuteTime": {
     "end_time": "2022-02-21T11:18:35.905978Z",
     "start_time": "2022-02-21T11:18:35.898690Z"
    }
   },
   "outputs": [
    {
     "data": {
      "text/plain": [
       "array([[1.21988145e-09, 9.98157640e-01, 7.03114965e-13, 1.84235919e-03]])"
      ]
     },
     "execution_count": 7,
     "metadata": {},
     "output_type": "execute_result"
    }
   ],
   "source": [
    "#compute pxp\n",
    "result = GroupBMC(m_mem).get_result().protected_exceedance_probability\n",
    "result =  result.reshape(1, result.shape[0]) #reshape from column vector to row vector\n",
    "#Save\n",
    "np.savetxt('../fitting_results/output/corrected_models/United KingdomOther/pxp/PXP_memory.csv', result, delimiter=',')\n",
    "result\n",
    "# GP, GP+R, GP+S, GP+RS"
   ]
  },
  {
   "cell_type": "code",
   "execution_count": 8,
   "metadata": {
    "ExecuteTime": {
     "end_time": "2022-02-21T11:18:35.905978Z",
     "start_time": "2022-02-21T11:18:35.898690Z"
    }
   },
   "outputs": [
    {
     "data": {
      "text/plain": [
       "array([[8.07022769e-08, 9.99999758e-01, 8.07058520e-08, 8.07023696e-08]])"
      ]
     },
     "execution_count": 8,
     "metadata": {},
     "output_type": "execute_result"
    }
   ],
   "source": [
    "#compute pxp\n",
    "result = GroupBMC(m_nomem).get_result().protected_exceedance_probability\n",
    "result =  result.reshape(1, result.shape[0]) #reshape from column vector to row vector\n",
    "#Save\n",
    "np.savetxt('../fitting_results/output/corrected_models/United KingdomOther/pxp/PXP_nomemory.csv', result, delimiter=',')\n",
    "result\n",
    "# GP, GP+R, GP+S, GP+RS"
   ]
  },
  {
   "cell_type": "markdown",
   "metadata": {},
   "source": [
    "### Protected exceedance probability for each age group individually"
   ]
  },
  {
   "cell_type": "markdown",
   "metadata": {},
   "source": [
    "#### Age group 18-27"
   ]
  },
  {
   "cell_type": "code",
   "execution_count": 9,
   "metadata": {
    "ExecuteTime": {
     "end_time": "2022-02-21T11:18:37.838196Z",
     "start_time": "2022-02-21T11:18:37.833503Z"
    }
   },
   "outputs": [],
   "source": [
    "#Load data\n",
    "m1_mem = -pd.read_csv('../fitting_results/output/corrected_models/United KingdomOther/pxp/by_age/summary_matrix_fitting_results_memory_18-27.csv', sep=',',  header=None).dropna(axis=0).to_numpy().T\n",
    "m1_nomem = -pd.read_csv('../fitting_results/output/corrected_models/United KingdomOther/pxp/by_age/summary_matrix_fitting_results_nomemory_18-27.csv', sep=',',  header=None).dropna(axis=0).to_numpy().T\n",
    "#make negative (i.e., negative log likelihoods) and transpose"
   ]
  },
  {
   "cell_type": "code",
   "execution_count": 10,
   "metadata": {
    "ExecuteTime": {
     "end_time": "2022-02-21T11:18:47.359911Z",
     "start_time": "2022-02-21T11:18:47.346922Z"
    }
   },
   "outputs": [
    {
     "data": {
      "text/plain": [
       "array([[0.18399222, 0.4728158 , 0.16765486, 0.17553712]])"
      ]
     },
     "execution_count": 10,
     "metadata": {},
     "output_type": "execute_result"
    }
   ],
   "source": [
    "#compute pxp\n",
    "result1_nomem = GroupBMC(m1_nomem).get_result().protected_exceedance_probability\n",
    "result1_nomem =  result1_nomem.reshape(1, result1_nomem.shape[0]) #reshape from column vector to row vector\n",
    "#Save\n",
    "np.savetxt('../fitting_results/output/corrected_models/United KingdomOther/pxp/by_age/PXP_nomemory_18-27.csv', result1_nomem, delimiter=',')\n",
    "result1_nomem"
   ]
  },
  {
   "cell_type": "code",
   "execution_count": 11,
   "metadata": {
    "ExecuteTime": {
     "end_time": "2022-02-21T11:18:47.359911Z",
     "start_time": "2022-02-21T11:18:47.346922Z"
    }
   },
   "outputs": [
    {
     "data": {
      "text/plain": [
       "array([[0.00274209, 0.99435063, 0.00144474, 0.00146254]])"
      ]
     },
     "execution_count": 11,
     "metadata": {},
     "output_type": "execute_result"
    }
   ],
   "source": [
    "#compute pxp\n",
    "result1_mem = GroupBMC(m1_mem).get_result().protected_exceedance_probability\n",
    "result1_mem =  result1_mem.reshape(1, result1_mem.shape[0]) #reshape from column vector to row vector\n",
    "#Save\n",
    "np.savetxt('../fitting_results/output/corrected_models/United KingdomOther/pxp/by_age/PXP_memory_18-27.csv', result1_mem, delimiter=',')\n",
    "result1_mem"
   ]
  },
  {
   "cell_type": "markdown",
   "metadata": {},
   "source": [
    "#### Age group 28-37"
   ]
  },
  {
   "cell_type": "code",
   "execution_count": 12,
   "metadata": {
    "ExecuteTime": {
     "end_time": "2022-02-21T11:19:06.430604Z",
     "start_time": "2022-02-21T11:19:06.425719Z"
    }
   },
   "outputs": [],
   "source": [
    "#Load data\n",
    "m1_mem = -pd.read_csv('../fitting_results/output/corrected_models/United KingdomOther/pxp/by_age/summary_matrix_fitting_results_memory_28-37.csv', sep=',',  header=None).dropna(axis=0).to_numpy().T\n",
    "m1_nomem = -pd.read_csv('../fitting_results/output/corrected_models/United KingdomOther/pxp/by_age/summary_matrix_fitting_results_nomemory_28-37.csv', sep=',',  header=None).dropna(axis=0).to_numpy().T\n",
    "#make negative (i.e., negative log likelihoods) and transpose"
   ]
  },
  {
   "cell_type": "code",
   "execution_count": 13,
   "metadata": {
    "ExecuteTime": {
     "end_time": "2022-02-21T11:19:06.983972Z",
     "start_time": "2022-02-21T11:19:06.970136Z"
    }
   },
   "outputs": [
    {
     "data": {
      "text/plain": [
       "array([[0.24898969, 0.2531286 , 0.24868306, 0.24919866]])"
      ]
     },
     "execution_count": 13,
     "metadata": {},
     "output_type": "execute_result"
    }
   ],
   "source": [
    "#compute pxp\n",
    "result1_nomem = GroupBMC(m1_nomem).get_result().protected_exceedance_probability\n",
    "result1_nomem =  result1_nomem.reshape(1, result1_nomem.shape[0]) #reshape from column vector to row vector\n",
    "#Save\n",
    "np.savetxt('../fitting_results/output/corrected_models/United KingdomOther/pxp/by_age/PXP_nomemory_28-37.csv', result1_nomem, delimiter=',')\n",
    "result1_nomem"
   ]
  },
  {
   "cell_type": "code",
   "execution_count": 14,
   "metadata": {},
   "outputs": [
    {
     "data": {
      "text/plain": [
       "array([[0.18062268, 0.37678238, 0.18065671, 0.26193823]])"
      ]
     },
     "execution_count": 14,
     "metadata": {},
     "output_type": "execute_result"
    }
   ],
   "source": [
    "#compute pxp\n",
    "result1_mem = GroupBMC(m1_mem).get_result().protected_exceedance_probability\n",
    "result1_mem =  result1_mem.reshape(1, result1_mem.shape[0]) #reshape from column vector to row vector\n",
    "#Save\n",
    "np.savetxt('../fitting_results/output/corrected_models/United KingdomOther/pxp/by_age/PXP_memory_28-37.csv', result1_mem, delimiter=',')\n",
    "result1_mem"
   ]
  },
  {
   "cell_type": "markdown",
   "metadata": {},
   "source": [
    "#### Age group 38-47"
   ]
  },
  {
   "cell_type": "code",
   "execution_count": 15,
   "metadata": {
    "ExecuteTime": {
     "end_time": "2022-02-21T11:19:15.038076Z",
     "start_time": "2022-02-21T11:19:15.033277Z"
    }
   },
   "outputs": [],
   "source": [
    "#Load data\n",
    "m1_mem = -pd.read_csv('../fitting_results/output/corrected_models/United KingdomOther/pxp/by_age/summary_matrix_fitting_results_memory_38-47.csv', sep=',',  header=None).dropna(axis=0).to_numpy().T\n",
    "m1_nomem = -pd.read_csv('../fitting_results/output/corrected_models/United KingdomOther/pxp/by_age/summary_matrix_fitting_results_nomemory_38-47.csv', sep=',',  header=None).dropna(axis=0).to_numpy().T\n",
    "#make negative (i.e., negative log likelihoods) and transpose"
   ]
  },
  {
   "cell_type": "code",
   "execution_count": 16,
   "metadata": {
    "ExecuteTime": {
     "end_time": "2022-02-21T11:19:15.733107Z",
     "start_time": "2022-02-21T11:19:15.720182Z"
    }
   },
   "outputs": [
    {
     "data": {
      "text/plain": [
       "array([[0.07945137, 0.62738719, 0.07924583, 0.21391562]])"
      ]
     },
     "execution_count": 16,
     "metadata": {},
     "output_type": "execute_result"
    }
   ],
   "source": [
    "#compute pxp\n",
    "result1_nomem = GroupBMC(m1_nomem).get_result().protected_exceedance_probability\n",
    "result1_nomem =  result1_nomem.reshape(1, result1_nomem.shape[0]) #reshape from column vector to row vector\n",
    "#Save\n",
    "np.savetxt('../fitting_results/output/corrected_models/United KingdomOther/pxp/by_age/PXP_nomemory_38-47.csv', result1_nomem, delimiter=',')\n",
    "result1_nomem"
   ]
  },
  {
   "cell_type": "code",
   "execution_count": 17,
   "metadata": {},
   "outputs": [
    {
     "data": {
      "text/plain": [
       "array([[0.05512414, 0.83031696, 0.05661004, 0.05794886]])"
      ]
     },
     "execution_count": 17,
     "metadata": {},
     "output_type": "execute_result"
    }
   ],
   "source": [
    "#compute pxp\n",
    "result1_mem = GroupBMC(m1_mem).get_result().protected_exceedance_probability\n",
    "result1_mem =  result1_mem.reshape(1, result1_mem.shape[0]) #reshape from column vector to row vector\n",
    "#Save\n",
    "np.savetxt('../fitting_results/output/corrected_models/United KingdomOther/pxp/by_age/PXP_memory_38-47.csv', result1_mem, delimiter=',')\n",
    "result1_mem"
   ]
  },
  {
   "cell_type": "markdown",
   "metadata": {},
   "source": [
    "#### Age group 48-57"
   ]
  },
  {
   "cell_type": "code",
   "execution_count": 18,
   "metadata": {
    "ExecuteTime": {
     "end_time": "2022-02-21T11:19:23.591818Z",
     "start_time": "2022-02-21T11:19:23.586331Z"
    }
   },
   "outputs": [],
   "source": [
    "#Load data\n",
    "m1_mem = -pd.read_csv('../fitting_results/output/corrected_models/United KingdomOther/pxp/by_age/summary_matrix_fitting_results_memory_48-57.csv', sep=',',  header=None).dropna(axis=0).to_numpy().T\n",
    "m1_nomem = -pd.read_csv('../fitting_results/output/corrected_models/United KingdomOther/pxp/by_age/summary_matrix_fitting_results_nomemory_48-57.csv', sep=',',  header=None).dropna(axis=0).to_numpy().T\n",
    "#make negative (i.e., negative log likelihoods) and transpose"
   ]
  },
  {
   "cell_type": "code",
   "execution_count": 19,
   "metadata": {
    "ExecuteTime": {
     "end_time": "2022-02-21T11:19:24.105616Z",
     "start_time": "2022-02-21T11:19:24.092275Z"
    }
   },
   "outputs": [
    {
     "data": {
      "text/plain": [
       "array([[0.19961258, 0.40757146, 0.19569428, 0.19712169]])"
      ]
     },
     "execution_count": 19,
     "metadata": {},
     "output_type": "execute_result"
    }
   ],
   "source": [
    "#compute pxp\n",
    "result1_nomem = GroupBMC(m1_nomem).get_result().protected_exceedance_probability\n",
    "result1_nomem =  result1_nomem.reshape(1, result1_nomem.shape[0]) #reshape from column vector to row vector\n",
    "#Save\n",
    "np.savetxt('../fitting_results/output/corrected_models/United KingdomOther/pxp/by_age/PXP_nomemory_48-57.csv', result1_nomem, delimiter=',')\n",
    "result1_nomem"
   ]
  },
  {
   "cell_type": "code",
   "execution_count": 20,
   "metadata": {},
   "outputs": [
    {
     "data": {
      "text/plain": [
       "array([[9.65214946e-06, 9.99841273e-01, 1.00247589e-05, 1.39049781e-04]])"
      ]
     },
     "execution_count": 20,
     "metadata": {},
     "output_type": "execute_result"
    }
   ],
   "source": [
    "#compute pxp\n",
    "result1_mem = GroupBMC(m1_mem).get_result().protected_exceedance_probability\n",
    "result1_mem =  result1_mem.reshape(1, result1_mem.shape[0]) #reshape from column vector to row vector\n",
    "#Save\n",
    "np.savetxt('../fitting_results/output/corrected_models/United KingdomOther/pxp/by_age/PXP_memory_48-57.csv', result1_mem, delimiter=',')\n",
    "result1_mem"
   ]
  },
  {
   "cell_type": "markdown",
   "metadata": {},
   "source": [
    "#### Age group 58-67"
   ]
  },
  {
   "cell_type": "code",
   "execution_count": 21,
   "metadata": {
    "ExecuteTime": {
     "end_time": "2022-02-21T11:19:31.729864Z",
     "start_time": "2022-02-21T11:19:31.724651Z"
    }
   },
   "outputs": [],
   "source": [
    "#Load data\n",
    "m1_mem = -pd.read_csv('../fitting_results/output/corrected_models/United KingdomOther/pxp/by_age/summary_matrix_fitting_results_memory_58-67.csv', sep=',',  header=None).dropna(axis=0).to_numpy().T\n",
    "m1_nomem = -pd.read_csv('../fitting_results/output/corrected_models/United KingdomOther/pxp/by_age/summary_matrix_fitting_results_nomemory_58-67.csv', sep=',',  header=None).dropna(axis=0).to_numpy().T\n",
    "#make negative (i.e., negative log likelihoods) and transpose"
   ]
  },
  {
   "cell_type": "code",
   "execution_count": 22,
   "metadata": {
    "ExecuteTime": {
     "end_time": "2022-02-21T11:19:32.321068Z",
     "start_time": "2022-02-21T11:19:32.308563Z"
    }
   },
   "outputs": [
    {
     "data": {
      "text/plain": [
       "array([[0.08325624, 0.656439  , 0.08171389, 0.17859087]])"
      ]
     },
     "execution_count": 22,
     "metadata": {},
     "output_type": "execute_result"
    }
   ],
   "source": [
    "#compute pxp\n",
    "result1_nomem = GroupBMC(m1_nomem).get_result().protected_exceedance_probability\n",
    "result1_nomem =  result1_nomem.reshape(1, result1_nomem.shape[0]) #reshape from column vector to row vector\n",
    "#Save\n",
    "np.savetxt('../fitting_results/output/corrected_models/United KingdomOther/pxp/by_age/PXP_nomemory_58-67.csv', result1_nomem, delimiter=',')\n",
    "result1_nomem"
   ]
  },
  {
   "cell_type": "code",
   "execution_count": 23,
   "metadata": {},
   "outputs": [
    {
     "data": {
      "text/plain": [
       "array([[7.18165118e-06, 9.99844554e-01, 6.13081627e-06, 1.42133232e-04]])"
      ]
     },
     "execution_count": 23,
     "metadata": {},
     "output_type": "execute_result"
    }
   ],
   "source": [
    "#compute pxp\n",
    "result1_mem = GroupBMC(m1_mem).get_result().protected_exceedance_probability\n",
    "result1_mem =  result1_mem.reshape(1, result1_mem.shape[0]) #reshape from column vector to row vector\n",
    "#Save\n",
    "np.savetxt('../fitting_results/output/corrected_models/United KingdomOther/pxp/by_age/PXP_memory_58-67.csv', result1_mem, delimiter=',')\n",
    "result1_mem"
   ]
  },
  {
   "cell_type": "markdown",
   "metadata": {},
   "source": [
    "#### Age group 58-67"
   ]
  },
  {
   "cell_type": "code",
   "execution_count": 24,
   "metadata": {},
   "outputs": [],
   "source": [
    "#Load data\n",
    "m1_mem = -pd.read_csv('../fitting_results/output/corrected_models/United KingdomOther/pxp/by_age/summary_matrix_fitting_results_memory_68-77.csv', sep=',',  header=None).dropna(axis=0).to_numpy().T\n",
    "m1_nomem = -pd.read_csv('../fitting_results/output/corrected_models/United KingdomOther/pxp/by_age/summary_matrix_fitting_results_nomemory_68-77.csv', sep=',',  header=None).dropna(axis=0).to_numpy().T\n",
    "#make negative (i.e., negative log likelihoods) and transpose"
   ]
  },
  {
   "cell_type": "code",
   "execution_count": 25,
   "metadata": {},
   "outputs": [
    {
     "data": {
      "text/plain": [
       "array([[0.25400103, 0.29460965, 0.2259234 , 0.22546592]])"
      ]
     },
     "execution_count": 25,
     "metadata": {},
     "output_type": "execute_result"
    }
   ],
   "source": [
    "#compute pxp\n",
    "result1_nomem = GroupBMC(m1_nomem).get_result().protected_exceedance_probability\n",
    "result1_nomem =  result1_nomem.reshape(1, result1_nomem.shape[0]) #reshape from column vector to row vector\n",
    "#Save\n",
    "np.savetxt('../fitting_results/output/corrected_models/United KingdomOther/pxp/by_age/PXP_nomemory_68-77.csv', result1_nomem, delimiter=',')\n",
    "result1_nomem"
   ]
  },
  {
   "cell_type": "code",
   "execution_count": 26,
   "metadata": {},
   "outputs": [
    {
     "data": {
      "text/plain": [
       "array([[1.70538092e-08, 9.99982029e-01, 4.61870908e-10, 1.79531009e-05]])"
      ]
     },
     "execution_count": 26,
     "metadata": {},
     "output_type": "execute_result"
    }
   ],
   "source": [
    "#compute pxp\n",
    "result1_mem = GroupBMC(m1_mem).get_result().protected_exceedance_probability\n",
    "result1_mem =  result1_mem.reshape(1, result1_mem.shape[0]) #reshape from column vector to row vector\n",
    "#Save\n",
    "np.savetxt('../fitting_results/output/corrected_models/United KingdomOther/pxp/by_age/PXP_memory_68-77.csv', result1_mem, delimiter=',')\n",
    "result1_mem"
   ]
  }
 ],
 "metadata": {
  "kernelspec": {
   "display_name": "Python 3 (ipykernel)",
   "language": "python",
   "name": "python3"
  },
  "language_info": {
   "codemirror_mode": {
    "name": "ipython",
    "version": 3
   },
   "file_extension": ".py",
   "mimetype": "text/x-python",
   "name": "python",
   "nbconvert_exporter": "python",
   "pygments_lexer": "ipython3",
   "version": "3.9.6"
  },
  "toc": {
   "base_numbering": 1,
   "nav_menu": {},
   "number_sections": true,
   "sideBar": true,
   "skip_h1_title": false,
   "title_cell": "Table of Contents",
   "title_sidebar": "Contents",
   "toc_cell": false,
   "toc_position": {},
   "toc_section_display": true,
   "toc_window_display": false
  }
 },
 "nbformat": 4,
 "nbformat_minor": 4
}
