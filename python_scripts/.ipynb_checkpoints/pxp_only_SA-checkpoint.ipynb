{
 "cells": [
  {
   "cell_type": "code",
   "execution_count": 1,
   "metadata": {},
   "outputs": [],
   "source": [
    "# code replicated from https://github.com/charleywu/graphInference/blob/master/analyses/PXP.ipynb"
   ]
  },
  {
   "cell_type": "code",
   "execution_count": 2,
   "metadata": {
    "ExecuteTime": {
     "end_time": "2022-02-21T11:09:25.714427Z",
     "start_time": "2022-02-21T11:09:25.711662Z"
    },
    "scrolled": true
   },
   "outputs": [],
   "source": [
    "import matplotlib.pyplot as plt\n",
    "import numpy as np\n",
    "import pandas as pd \n",
    "\n",
    "from bms import GroupBMC #https://github.com/cpilab/group-bayesian-model-comparison"
   ]
  },
  {
   "cell_type": "code",
   "execution_count": 3,
   "metadata": {},
   "outputs": [],
   "source": [
    "L = np.array([[-100, -120, -100, -120], [-120, -100, -120, -100], [-110, -110, -110, -110]])\n",
    "result = GroupBMC(L).get_result().protected_exceedance_probability"
   ]
  },
  {
   "cell_type": "code",
   "execution_count": 4,
   "metadata": {},
   "outputs": [
    {
     "name": "stdout",
     "output_type": "stream",
     "text": [
      "[0.3959346 0.3959346 0.2081308]\n"
     ]
    }
   ],
   "source": [
    "print(result)"
   ]
  },
  {
   "cell_type": "markdown",
   "metadata": {},
   "source": [
    "### Protected exceedance probability depending on condition"
   ]
  },
  {
   "cell_type": "code",
   "execution_count": 5,
   "metadata": {
    "ExecuteTime": {
     "end_time": "2022-02-21T11:18:35.260379Z",
     "start_time": "2022-02-21T11:18:35.255296Z"
    }
   },
   "outputs": [],
   "source": [
    "#Load data\n",
    "m_mem = -pd.read_csv('../fitting_results/output/corrected_models/South Africa/pxp/summary_matrix_fitting_results_memory.csv', sep=',',header=None).dropna(axis=0).to_numpy().T\n",
    "#m"
   ]
  },
  {
   "cell_type": "code",
   "execution_count": 6,
   "metadata": {
    "ExecuteTime": {
     "end_time": "2022-02-21T11:18:35.260379Z",
     "start_time": "2022-02-21T11:18:35.255296Z"
    }
   },
   "outputs": [],
   "source": [
    "#Load data\n",
    "m_nomem = -pd.read_csv('../fitting_results/output/corrected_models/South Africa/pxp/summary_matrix_fitting_results_nomemory.csv', sep=',',header=None).dropna(axis=0).to_numpy().T\n",
    "#m"
   ]
  },
  {
   "cell_type": "code",
   "execution_count": 7,
   "metadata": {
    "ExecuteTime": {
     "end_time": "2022-02-21T11:18:35.905978Z",
     "start_time": "2022-02-21T11:18:35.898690Z"
    }
   },
   "outputs": [
    {
     "data": {
      "text/plain": [
       "array([[1.75677468e-12, 9.99968519e-01, 1.27718590e-13, 3.14810609e-05]])"
      ]
     },
     "execution_count": 7,
     "metadata": {},
     "output_type": "execute_result"
    }
   ],
   "source": [
    "#compute pxp\n",
    "result = GroupBMC(m_mem).get_result().protected_exceedance_probability\n",
    "result =  result.reshape(1, result.shape[0]) #reshape from column vector to row vector\n",
    "#Save\n",
    "np.savetxt('../fitting_results/output/corrected_models/South Africa/pxp/PXP_memory.csv', result, delimiter=',')\n",
    "result\n",
    "# GP, GP+R, GP+S, GP+RS"
   ]
  },
  {
   "cell_type": "code",
   "execution_count": 8,
   "metadata": {
    "ExecuteTime": {
     "end_time": "2022-02-21T11:18:35.905978Z",
     "start_time": "2022-02-21T11:18:35.898690Z"
    }
   },
   "outputs": [
    {
     "data": {
      "text/plain": [
       "array([[1.59716678e-04, 9.06396878e-01, 1.62542221e-04, 9.32808634e-02]])"
      ]
     },
     "execution_count": 8,
     "metadata": {},
     "output_type": "execute_result"
    }
   ],
   "source": [
    "#compute pxp\n",
    "result = GroupBMC(m_nomem).get_result().protected_exceedance_probability\n",
    "result =  result.reshape(1, result.shape[0]) #reshape from column vector to row vector\n",
    "#Save\n",
    "np.savetxt('../fitting_results/output/corrected_models/South Africa/pxp/PXP_nomemory.csv', result, delimiter=',')\n",
    "result\n",
    "# GP, GP+R, GP+S, GP+RS"
   ]
  },
  {
   "cell_type": "markdown",
   "metadata": {},
   "source": [
    "### Protected exceedance probability for each age group individually"
   ]
  },
  {
   "cell_type": "markdown",
   "metadata": {},
   "source": [
    "#### Age group 18-27"
   ]
  },
  {
   "cell_type": "code",
   "execution_count": 9,
   "metadata": {
    "ExecuteTime": {
     "end_time": "2022-02-21T11:18:37.838196Z",
     "start_time": "2022-02-21T11:18:37.833503Z"
    }
   },
   "outputs": [],
   "source": [
    "#Load data\n",
    "m1_mem = -pd.read_csv('../fitting_results/output/corrected_models/South Africa/pxp/by_age/summary_matrix_fitting_results_memory_18-27.csv', sep=',',  header=None).dropna(axis=0).to_numpy().T\n",
    "m1_nomem = -pd.read_csv('../fitting_results/output/corrected_models/South Africa/pxp/by_age/summary_matrix_fitting_results_nomemory_18-27.csv', sep=',',  header=None).dropna(axis=0).to_numpy().T\n",
    "#make negative (i.e., negative log likelihoods) and transpose"
   ]
  },
  {
   "cell_type": "code",
   "execution_count": 10,
   "metadata": {
    "ExecuteTime": {
     "end_time": "2022-02-21T11:18:47.359911Z",
     "start_time": "2022-02-21T11:18:47.346922Z"
    }
   },
   "outputs": [
    {
     "data": {
      "text/plain": [
       "array([[0.22877594, 0.29304797, 0.23816276, 0.24001333]])"
      ]
     },
     "execution_count": 10,
     "metadata": {},
     "output_type": "execute_result"
    }
   ],
   "source": [
    "#compute pxp\n",
    "result1_nomem = GroupBMC(m1_nomem).get_result().protected_exceedance_probability\n",
    "result1_nomem =  result1_nomem.reshape(1, result1_nomem.shape[0]) #reshape from column vector to row vector\n",
    "#Save\n",
    "np.savetxt('../fitting_results/output/corrected_models/South Africa/pxp/by_age/PXP_nomemory_18-27.csv', result1_nomem, delimiter=',')\n",
    "result1_nomem"
   ]
  },
  {
   "cell_type": "code",
   "execution_count": 11,
   "metadata": {
    "ExecuteTime": {
     "end_time": "2022-02-21T11:18:47.359911Z",
     "start_time": "2022-02-21T11:18:47.346922Z"
    }
   },
   "outputs": [
    {
     "data": {
      "text/plain": [
       "array([[0.00938734, 0.8444591 , 0.01036046, 0.1357931 ]])"
      ]
     },
     "execution_count": 11,
     "metadata": {},
     "output_type": "execute_result"
    }
   ],
   "source": [
    "#compute pxp\n",
    "result1_mem = GroupBMC(m1_mem).get_result().protected_exceedance_probability\n",
    "result1_mem =  result1_mem.reshape(1, result1_mem.shape[0]) #reshape from column vector to row vector\n",
    "#Save\n",
    "np.savetxt('../fitting_results/output/corrected_models/South Africa/pxp/by_age/PXP_memory_18-27.csv', result1_mem, delimiter=',')\n",
    "result1_mem"
   ]
  },
  {
   "cell_type": "markdown",
   "metadata": {},
   "source": [
    "#### Age group 28-37"
   ]
  },
  {
   "cell_type": "code",
   "execution_count": 12,
   "metadata": {
    "ExecuteTime": {
     "end_time": "2022-02-21T11:19:06.430604Z",
     "start_time": "2022-02-21T11:19:06.425719Z"
    }
   },
   "outputs": [],
   "source": [
    "#Load data\n",
    "m1_mem = -pd.read_csv('../fitting_results/output/corrected_models/South Africa/pxp/by_age/summary_matrix_fitting_results_memory_28-37.csv', sep=',',  header=None).dropna(axis=0).to_numpy().T\n",
    "m1_nomem = -pd.read_csv('../fitting_results/output/corrected_models/South Africa/pxp/by_age/summary_matrix_fitting_results_nomemory_28-37.csv', sep=',',  header=None).dropna(axis=0).to_numpy().T\n",
    "#make negative (i.e., negative log likelihoods) and transpose"
   ]
  },
  {
   "cell_type": "code",
   "execution_count": 13,
   "metadata": {
    "ExecuteTime": {
     "end_time": "2022-02-21T11:19:06.983972Z",
     "start_time": "2022-02-21T11:19:06.970136Z"
    }
   },
   "outputs": [
    {
     "data": {
      "text/plain": [
       "array([[0.0015132 , 0.93544804, 0.0032769 , 0.05976185]])"
      ]
     },
     "execution_count": 13,
     "metadata": {},
     "output_type": "execute_result"
    }
   ],
   "source": [
    "#compute pxp\n",
    "result1_nomem = GroupBMC(m1_nomem).get_result().protected_exceedance_probability\n",
    "result1_nomem =  result1_nomem.reshape(1, result1_nomem.shape[0]) #reshape from column vector to row vector\n",
    "#Save\n",
    "np.savetxt('../fitting_results/output/corrected_models/South Africa/pxp/by_age/PXP_nomemory_28-37.csv', result1_nomem, delimiter=',')\n",
    "result1_nomem"
   ]
  },
  {
   "cell_type": "code",
   "execution_count": 14,
   "metadata": {},
   "outputs": [
    {
     "data": {
      "text/plain": [
       "array([[8.05124894e-04, 9.69736236e-01, 3.46490510e-04, 2.91121483e-02]])"
      ]
     },
     "execution_count": 14,
     "metadata": {},
     "output_type": "execute_result"
    }
   ],
   "source": [
    "#compute pxp\n",
    "result1_mem = GroupBMC(m1_mem).get_result().protected_exceedance_probability\n",
    "result1_mem =  result1_mem.reshape(1, result1_mem.shape[0]) #reshape from column vector to row vector\n",
    "#Save\n",
    "np.savetxt('../fitting_results/output/corrected_models/South Africa/pxp/by_age/PXP_memory_28-37.csv', result1_mem, delimiter=',')\n",
    "result1_mem"
   ]
  },
  {
   "cell_type": "markdown",
   "metadata": {},
   "source": [
    "#### Age group 38-47"
   ]
  },
  {
   "cell_type": "code",
   "execution_count": 15,
   "metadata": {
    "ExecuteTime": {
     "end_time": "2022-02-21T11:19:15.038076Z",
     "start_time": "2022-02-21T11:19:15.033277Z"
    }
   },
   "outputs": [],
   "source": [
    "#Load data\n",
    "m1_mem = -pd.read_csv('../fitting_results/output/corrected_models/South Africa/pxp/by_age/summary_matrix_fitting_results_memory_38-47.csv', sep=',',  header=None).dropna(axis=0).to_numpy().T\n",
    "m1_nomem = -pd.read_csv('../fitting_results/output/corrected_models/South Africa/pxp/by_age/summary_matrix_fitting_results_nomemory_38-47.csv', sep=',',  header=None).dropna(axis=0).to_numpy().T\n",
    "#make negative (i.e., negative log likelihoods) and transpose"
   ]
  },
  {
   "cell_type": "code",
   "execution_count": 16,
   "metadata": {
    "ExecuteTime": {
     "end_time": "2022-02-21T11:19:15.733107Z",
     "start_time": "2022-02-21T11:19:15.720182Z"
    }
   },
   "outputs": [
    {
     "data": {
      "text/plain": [
       "array([[0.06121209, 0.55442296, 0.04851672, 0.33584823]])"
      ]
     },
     "execution_count": 16,
     "metadata": {},
     "output_type": "execute_result"
    }
   ],
   "source": [
    "#compute pxp\n",
    "result1_nomem = GroupBMC(m1_nomem).get_result().protected_exceedance_probability\n",
    "result1_nomem =  result1_nomem.reshape(1, result1_nomem.shape[0]) #reshape from column vector to row vector\n",
    "#Save\n",
    "np.savetxt('../fitting_results/output/corrected_models/South Africa/pxp/by_age/PXP_nomemory_38-47.csv', result1_nomem, delimiter=',')\n",
    "result1_nomem"
   ]
  },
  {
   "cell_type": "code",
   "execution_count": 17,
   "metadata": {},
   "outputs": [
    {
     "data": {
      "text/plain": [
       "array([[7.85512301e-06, 9.99837174e-01, 7.90609013e-06, 1.47064927e-04]])"
      ]
     },
     "execution_count": 17,
     "metadata": {},
     "output_type": "execute_result"
    }
   ],
   "source": [
    "#compute pxp\n",
    "result1_mem = GroupBMC(m1_mem).get_result().protected_exceedance_probability\n",
    "result1_mem =  result1_mem.reshape(1, result1_mem.shape[0]) #reshape from column vector to row vector\n",
    "#Save\n",
    "np.savetxt('../fitting_results/output/corrected_models/South Africa/pxp/by_age/PXP_memory_38-47.csv', result1_mem, delimiter=',')\n",
    "result1_mem"
   ]
  },
  {
   "cell_type": "markdown",
   "metadata": {},
   "source": [
    "#### Age group 48-57"
   ]
  },
  {
   "cell_type": "code",
   "execution_count": 18,
   "metadata": {
    "ExecuteTime": {
     "end_time": "2022-02-21T11:19:23.591818Z",
     "start_time": "2022-02-21T11:19:23.586331Z"
    }
   },
   "outputs": [],
   "source": [
    "#Load data\n",
    "m1_mem = -pd.read_csv('../fitting_results/output/corrected_models/South Africa/pxp/by_age/summary_matrix_fitting_results_memory_48-57.csv', sep=',',  header=None).dropna(axis=0).to_numpy().T\n",
    "m1_nomem = -pd.read_csv('../fitting_results/output/corrected_models/South Africa/pxp/by_age/summary_matrix_fitting_results_nomemory_48-57.csv', sep=',',  header=None).dropna(axis=0).to_numpy().T\n",
    "#make negative (i.e., negative log likelihoods) and transpose"
   ]
  },
  {
   "cell_type": "code",
   "execution_count": 19,
   "metadata": {
    "ExecuteTime": {
     "end_time": "2022-02-21T11:19:24.105616Z",
     "start_time": "2022-02-21T11:19:24.092275Z"
    }
   },
   "outputs": [
    {
     "data": {
      "text/plain": [
       "array([[0.28726199, 0.11414942, 0.11408742, 0.48450116]])"
      ]
     },
     "execution_count": 19,
     "metadata": {},
     "output_type": "execute_result"
    }
   ],
   "source": [
    "#compute pxp\n",
    "result1_nomem = GroupBMC(m1_nomem).get_result().protected_exceedance_probability\n",
    "result1_nomem =  result1_nomem.reshape(1, result1_nomem.shape[0]) #reshape from column vector to row vector\n",
    "#Save\n",
    "np.savetxt('../fitting_results/output/corrected_models/South Africa/pxp/by_age/PXP_nomemory_48-57.csv', result1_nomem, delimiter=',')\n",
    "result1_nomem"
   ]
  },
  {
   "cell_type": "code",
   "execution_count": 20,
   "metadata": {},
   "outputs": [
    {
     "data": {
      "text/plain": [
       "array([[0.01109669, 0.9666319 , 0.01109669, 0.01117472]])"
      ]
     },
     "execution_count": 20,
     "metadata": {},
     "output_type": "execute_result"
    }
   ],
   "source": [
    "#compute pxp\n",
    "result1_mem = GroupBMC(m1_mem).get_result().protected_exceedance_probability\n",
    "result1_mem =  result1_mem.reshape(1, result1_mem.shape[0]) #reshape from column vector to row vector\n",
    "#Save\n",
    "np.savetxt('../fitting_results/output/corrected_models/South Africa/pxp/by_age/PXP_memory_48-57.csv', result1_mem, delimiter=',')\n",
    "result1_mem"
   ]
  },
  {
   "cell_type": "markdown",
   "metadata": {},
   "source": [
    "#### Age group 58-67"
   ]
  },
  {
   "cell_type": "code",
   "execution_count": 21,
   "metadata": {
    "ExecuteTime": {
     "end_time": "2022-02-21T11:19:31.729864Z",
     "start_time": "2022-02-21T11:19:31.724651Z"
    }
   },
   "outputs": [],
   "source": [
    "#Load data\n",
    "m1_mem = -pd.read_csv('../fitting_results/output/corrected_models/South Africa/pxp/by_age/summary_matrix_fitting_results_memory_58-67.csv', sep=',',  header=None).dropna(axis=0).to_numpy().T\n",
    "m1_nomem = -pd.read_csv('../fitting_results/output/corrected_models/South Africa/pxp/by_age/summary_matrix_fitting_results_nomemory_58-67.csv', sep=',',  header=None).dropna(axis=0).to_numpy().T\n",
    "#make negative (i.e., negative log likelihoods) and transpose"
   ]
  },
  {
   "cell_type": "code",
   "execution_count": 22,
   "metadata": {
    "ExecuteTime": {
     "end_time": "2022-02-21T11:19:32.321068Z",
     "start_time": "2022-02-21T11:19:32.308563Z"
    }
   },
   "outputs": [
    {
     "data": {
      "text/plain": [
       "array([[0.10386508, 0.68825973, 0.10386508, 0.10401011]])"
      ]
     },
     "execution_count": 22,
     "metadata": {},
     "output_type": "execute_result"
    }
   ],
   "source": [
    "#compute pxp\n",
    "result1_nomem = GroupBMC(m1_nomem).get_result().protected_exceedance_probability\n",
    "result1_nomem =  result1_nomem.reshape(1, result1_nomem.shape[0]) #reshape from column vector to row vector\n",
    "#Save\n",
    "np.savetxt('../fitting_results/output/corrected_models/South Africa/pxp/by_age/PXP_nomemory_58-67.csv', result1_nomem, delimiter=',')\n",
    "result1_nomem"
   ]
  },
  {
   "cell_type": "code",
   "execution_count": 23,
   "metadata": {},
   "outputs": [
    {
     "data": {
      "text/plain": [
       "array([[0.18363034, 0.31636738, 0.18363034, 0.31637193]])"
      ]
     },
     "execution_count": 23,
     "metadata": {},
     "output_type": "execute_result"
    }
   ],
   "source": [
    "#compute pxp\n",
    "result1_mem = GroupBMC(m1_mem).get_result().protected_exceedance_probability\n",
    "result1_mem =  result1_mem.reshape(1, result1_mem.shape[0]) #reshape from column vector to row vector\n",
    "#Save\n",
    "np.savetxt('../fitting_results/output/corrected_models/South Africa/pxp/by_age/PXP_memory_58-67.csv', result1_mem, delimiter=',')\n",
    "result1_mem"
   ]
  },
  {
   "cell_type": "markdown",
   "metadata": {},
   "source": [
    "#### Age group 58-67"
   ]
  },
  {
   "cell_type": "code",
   "execution_count": 24,
   "metadata": {},
   "outputs": [],
   "source": [
    "#Load data\n",
    "m1_mem = -pd.read_csv('../fitting_results/output/corrected_models/South Africa/pxp/by_age/summary_matrix_fitting_results_memory_68-77.csv', sep=',',  header=None).dropna(axis=0).to_numpy().T\n",
    "m1_nomem = -pd.read_csv('../fitting_results/output/corrected_models/South Africa/pxp/by_age/summary_matrix_fitting_results_nomemory_68-77.csv', sep=',',  header=None).dropna(axis=0).to_numpy().T\n",
    "#make negative (i.e., negative log likelihoods) and transpose"
   ]
  },
  {
   "cell_type": "code",
   "execution_count": 25,
   "metadata": {},
   "outputs": [
    {
     "data": {
      "text/plain": [
       "array([[0.10684331, 0.10706721, 0.10684331, 0.67924617]])"
      ]
     },
     "execution_count": 25,
     "metadata": {},
     "output_type": "execute_result"
    }
   ],
   "source": [
    "#compute pxp\n",
    "result1_nomem = GroupBMC(m1_nomem).get_result().protected_exceedance_probability\n",
    "result1_nomem =  result1_nomem.reshape(1, result1_nomem.shape[0]) #reshape from column vector to row vector\n",
    "#Save\n",
    "np.savetxt('../fitting_results/output/corrected_models/South Africa/pxp/by_age/PXP_nomemory_68-77.csv', result1_nomem, delimiter=',')\n",
    "result1_nomem"
   ]
  },
  {
   "cell_type": "code",
   "execution_count": 26,
   "metadata": {},
   "outputs": [
    {
     "data": {
      "text/plain": [
       "array([[0.1832992 , 0.33157542, 0.1832992 , 0.30182618]])"
      ]
     },
     "execution_count": 26,
     "metadata": {},
     "output_type": "execute_result"
    }
   ],
   "source": [
    "#compute pxp\n",
    "result1_mem = GroupBMC(m1_mem).get_result().protected_exceedance_probability\n",
    "result1_mem =  result1_mem.reshape(1, result1_mem.shape[0]) #reshape from column vector to row vector\n",
    "#Save\n",
    "np.savetxt('../fitting_results/output/corrected_models/South Africa/pxp/by_age/PXP_memory_68-77.csv', result1_mem, delimiter=',')\n",
    "result1_mem"
   ]
  }
 ],
 "metadata": {
  "kernelspec": {
   "display_name": "Python 3 (ipykernel)",
   "language": "python",
   "name": "python3"
  },
  "language_info": {
   "codemirror_mode": {
    "name": "ipython",
    "version": 3
   },
   "file_extension": ".py",
   "mimetype": "text/x-python",
   "name": "python",
   "nbconvert_exporter": "python",
   "pygments_lexer": "ipython3",
   "version": "3.9.6"
  },
  "toc": {
   "base_numbering": 1,
   "nav_menu": {},
   "number_sections": true,
   "sideBar": true,
   "skip_h1_title": false,
   "title_cell": "Table of Contents",
   "title_sidebar": "Contents",
   "toc_cell": false,
   "toc_position": {},
   "toc_section_display": true,
   "toc_window_display": false
  }
 },
 "nbformat": 4,
 "nbformat_minor": 4
}
